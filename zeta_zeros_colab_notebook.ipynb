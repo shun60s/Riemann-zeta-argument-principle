{
  "nbformat": 4,
  "nbformat_minor": 0,
  "metadata": {
    "colab": {
      "provenance": []
    },
    "kernelspec": {
      "name": "python3",
      "display_name": "Python 3"
    },
    "language_info": {
      "name": "python"
    }
  },
  "cells": [
    {
      "cell_type": "markdown",
      "source": [
        "**Calculate number of Riemann zeta function zeros according to argument principle**"
      ],
      "metadata": {
        "id": "QqGdUVpmbbyR"
      }
    },
    {
      "cell_type": "markdown",
      "source": [
        "install mpmath and numpy. you can skip this  if already satisfied."
      ],
      "metadata": {
        "id": "gtDFVcUgbwQt"
      }
    },
    {
      "cell_type": "code",
      "source": [
        "!pip install mpmath\n",
        "!pip install numpy"
      ],
      "metadata": {
        "colab": {
          "base_uri": "https://localhost:8080/"
        },
        "id": "QdKy7mBdQ0w4",
        "outputId": "8f71c392-6f9e-46db-a964-530125b6e86c"
      },
      "execution_count": 1,
      "outputs": [
        {
          "output_type": "stream",
          "name": "stdout",
          "text": [
            "Requirement already satisfied: mpmath in /usr/local/lib/python3.10/dist-packages (1.3.0)\n",
            "Requirement already satisfied: numpy in /usr/local/lib/python3.10/dist-packages (1.23.5)\n"
          ]
        }
      ]
    },
    {
      "cell_type": "markdown",
      "source": [
        "define a function to calculate integral"
      ],
      "metadata": {
        "id": "mfSEH7I8cRW-"
      }
    },
    {
      "cell_type": "code",
      "source": [
        "import math\n",
        "import mpmath\n",
        "import numpy as np\n",
        "\n",
        "\n",
        "def sekibun(h0,w0,delta0):\n",
        "    # h0      rectangle vertical is zeros area, imaginary axis\n",
        "    # w0      rectangle horizontal is critical strip, real axis\n",
        "    # delta0  piecewise quadrature step of integral\n",
        "    #\n",
        "    # return  the difference between the number of zeros and poles inside rectangle area, complex number, almost integer.\n",
        "\n",
        "    hd=int((h0[1]-h0[0])/delta0)\n",
        "    wd=int((w0[1]-w0[0])/delta0)\n",
        "\n",
        "    # get dividing points along rectangle\n",
        "    yp=np.arange(hd+1, dtype='float64') * delta0\n",
        "    xp=np.arange(wd+1, dtype='float64') * delta0\n",
        "\n",
        "    c1=(w0[1]+ 1j * h0[0]) +  1j * yp\n",
        "    c2= c1[-1] - xp\n",
        "    c3= c2[-1] - 1j * yp\n",
        "    c4= c3[-1] + xp\n",
        "    c_all_plus_last=np.concatenate([c1[:-1],c2[:-1],c3[:-1],c4])\n",
        "\n",
        "    b1= np.ones(hd) * delta0 * 1j\n",
        "    b2= np.ones(wd) * delta0\n",
        "    b_all_half=np.concatenate([b1,b2 * -1 ,b1 * -1 ,b2]) / 2.0\n",
        "\n",
        "    # integral by piecewise quadrature method\n",
        "    rtn=mpmath.mpf(0.0)\n",
        "    stack0=mpmath.fdiv(mpmath.zeta(c_all_plus_last[0], derivative=1),mpmath.zeta(c_all_plus_last[0]))\n",
        "    for i in range(len(c_all_plus_last)-1):\n",
        "        stack1=mpmath.fdiv(mpmath.zeta(c_all_plus_last[i+1], derivative=1),mpmath.zeta(c_all_plus_last[i+1]))\n",
        "        rtn=mpmath.fadd(mpmath.fmul(mpmath.fadd(stack0,stack1), mpmath.mpmathify(b_all_half[i])),rtn)\n",
        "        stack0=mpmath.mpmathify(stack1)\n",
        "\n",
        "    return rtn / (2.0 * math.pi * 1j)"
      ],
      "metadata": {
        "id": "WquQ7dNQMKoq"
      },
      "execution_count": 2,
      "outputs": []
    },
    {
      "cell_type": "markdown",
      "source": [
        "example 1,  first 5 non-trivial zeros rectangle area\n",
        "\n",
        "  first 5 non-trivial zero points of Riemann zeta function are\n",
        "\n",
        "   14.134j + 1/2  \n",
        "\n",
        "   21.022j + 1/2\n",
        "\n",
        "   25.010j + 1/2\n",
        "\n",
        "   30.424j + 1/2\n",
        "\n",
        "   32.935j + 1/2"
      ],
      "metadata": {
        "id": "jUFWNZYvearg"
      }
    },
    {
      "cell_type": "code",
      "source": [
        "# define rectangle as integral path which includes first 5 non-trivial zeros\n",
        "w0=[0.0, 1.0] # critical strip\n",
        "h0=[1.0, 33.0]\n",
        "# define piecewise quadrature step of integral\n",
        "delta0=0.01\n",
        "\n",
        "# call function\n",
        "rtn=sekibun(h0,w0,delta0)\n",
        "\n",
        "# show result which means the difference between the number of zeros and poles inside rectangle area\n",
        "print('result', rtn)"
      ],
      "metadata": {
        "colab": {
          "base_uri": "https://localhost:8080/"
        },
        "id": "-UUDoIM8Md7R",
        "outputId": "fbde81ca-016e-48d2-ac8c-abfef82ef20b"
      },
      "execution_count": 3,
      "outputs": [
        {
          "output_type": "stream",
          "name": "stdout",
          "text": [
            "result (4.99999279975528 + 2.46276893392437e-6j)\n"
          ]
        }
      ]
    },
    {
      "cell_type": "markdown",
      "source": [
        "example 2,  improvement calculation error to use smaller piecewise quadrature step"
      ],
      "metadata": {
        "id": "qDitWz-uf2zR"
      }
    },
    {
      "cell_type": "code",
      "source": [
        "# define rectangle as integral path\n",
        "w0=[0.0, 1.0] # critical strip\n",
        "h0=[1.0, 33.0]\n",
        "# define piecewise quadrature step of integral\n",
        "delta0=0.001 # smaller than example 1\n",
        "\n",
        "# call function\n",
        "rtn=sekibun(h0,w0,delta0)\n",
        "\n",
        "# show result which means the difference between the number of zeros and poles inside rectangle area\n",
        "print('result', rtn)"
      ],
      "metadata": {
        "colab": {
          "base_uri": "https://localhost:8080/"
        },
        "id": "GAJbX-7Uf8qc",
        "outputId": "61aa6e35-a634-4ac3-c19f-199dc8c3e00b"
      },
      "execution_count": 4,
      "outputs": [
        {
          "output_type": "stream",
          "name": "stdout",
          "text": [
            "result (4.9999999279975 + 2.4627689394726e-8j)\n"
          ]
        }
      ]
    },
    {
      "cell_type": "markdown",
      "source": [
        "example 3,  first 5 non-trivial zeros and pole 1+j0 rectangle area.\n",
        "  result, reduce one."
      ],
      "metadata": {
        "id": "Okci94QcgFUc"
      }
    },
    {
      "cell_type": "code",
      "source": [
        "# define rectangle as integral path which includes first 5 non-trivial zeros and a pole\n",
        "w0=[0.0, 1.1]\n",
        "h0=[-0.1, 33.0]\n",
        "# define piecewise quadrature step of integral\n",
        "delta0=0.01\n",
        "\n",
        "# call function\n",
        "rtn=sekibun(h0,w0,delta0)\n",
        "\n",
        "# show result which means the difference between the number of zeros and poles inside rectangle area\n",
        "print('result', rtn)"
      ],
      "metadata": {
        "colab": {
          "base_uri": "https://localhost:8080/"
        },
        "id": "WmjJhjD7gJ0l",
        "outputId": "1d8518f7-e589-4f7b-f74b-e4cad02a76da"
      },
      "execution_count": 5,
      "outputs": [
        {
          "output_type": "stream",
          "name": "stdout",
          "text": [
            "result (4.00012873370994 + 5.0342983213897e-6j)\n"
          ]
        }
      ]
    },
    {
      "cell_type": "markdown",
      "source": [
        "example 4, rectangle area until j100. result, the number of zeros is 29."
      ],
      "metadata": {
        "id": "IbYhi1oCgXhU"
      }
    },
    {
      "cell_type": "code",
      "source": [
        "# define rectangle as integral path\n",
        "w0=[0.0, 1.0] # critical strip\n",
        "h0=[1.0, 100.0]\n",
        "# define piecewise quadrature step of integral\n",
        "delta0=0.01\n",
        "\n",
        "# call function\n",
        "rtn=sekibun(h0,w0,delta0)\n",
        "\n",
        "# show result which means the difference between the number of zeros and poles inside rectangle area\n",
        "print('result', rtn)"
      ],
      "metadata": {
        "colab": {
          "base_uri": "https://localhost:8080/"
        },
        "id": "HAPb9RYIgbiF",
        "outputId": "10afdbab-5ed8-42e3-abcc-69c57ff8cd5a"
      },
      "execution_count": 6,
      "outputs": [
        {
          "output_type": "stream",
          "name": "stdout",
          "text": [
            "result (28.9999977843351 + 2.46385420357025e-6j)\n"
          ]
        }
      ]
    }
  ]
}